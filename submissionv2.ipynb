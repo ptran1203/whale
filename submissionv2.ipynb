{
 "cells": [
  {
   "cell_type": "code",
   "execution_count": 1,
   "metadata": {},
   "outputs": [
    {
     "name": "stdout",
     "output_type": "stream",
     "text": [
      "Ensemble of 4 models\n"
     ]
    }
   ],
   "source": [
    "from utils import pickle_load\n",
    "import numpy as np\n",
    "import matplotlib.pyplot as plt\n",
    "import seaborn as sns\n",
    "import cv2\n",
    "import pandas as pd\n",
    "import os\n",
    "from glob import glob\n",
    "from evaluate import compute_sim, evaluate, l2norm_numpy\n",
    "from evaluate import dict2list\n",
    "\n",
    "def l2norm(embs):\n",
    "    return {k: v/np.linalg.norm(v) for k, v in embs.items()}\n",
    "\n",
    "infer_dirs = glob('infer/*')[:]\n",
    "# infer_dirs = infer_dirs[1:]\n",
    "infer_dirs = [x for x in infer_dirs if 'bk' not in x and 'eval' not in x]\n",
    "weights = [1.0] * len(infer_dirs)\n",
    "# weights = [1.0, 0.5, 0.5]\n",
    "\n",
    "print(f\"Ensemble of {len(infer_dirs)} models\")\n",
    "\n",
    "submit_file = f'submission.csv'\n",
    "if os.path.exists('D:/whale_data/train_images-384-384/train_images-384-384'):\n",
    "    train_img_dir = 'D:/whale_data/train_images-384-384/train_images-384-384'\n",
    "else:\n",
    "    train_img_dir = '/Users/macbook/works/train_images-384-384'\n",
    "\n",
    "norm=True\n",
    "method = 'cat'\n",
    "\n",
    "def get_emb(infer_dirs, subset):\n",
    "    li = []\n",
    "    for infer_dir in infer_dirs:\n",
    "        if isinstance(subset, str):\n",
    "            embs = pickle_load(f\"{infer_dir}/{subset}_emb.pkl\")\n",
    "        else:\n",
    "            embs = {}\n",
    "            for s in subset:\n",
    "                p = f\"{infer_dir}/{s}_emb.pkl\"\n",
    "                if os.path.exists(p):\n",
    "                    embs = {**embs, **pickle_load(p)}\n",
    "                elif s != \"val\":\n",
    "                    raise FileNotFoundError(p)\n",
    "\n",
    "        li.append(embs)\n",
    "\n",
    "    if len(li) == 1:\n",
    "        return li[0]\n",
    "\n",
    "    print(f'Ensemble from {len(infer_dirs)} models {infer_dirs}')\n",
    "    li0 = li[0]\n",
    "    di = {}\n",
    "    for k in li0.keys():\n",
    "        di[k] = []\n",
    "        for i in range(len(li)):\n",
    "            e = li[i][k]\n",
    "            di[k].append(e)\n",
    "\n",
    "    return di\n",
    "\n",
    "train_df = pd.read_csv('data/train_kfold.csv')\n"
   ]
  },
  {
   "cell_type": "code",
   "execution_count": 2,
   "metadata": {},
   "outputs": [],
   "source": [
    "from sklearn.preprocessing import normalize, QuantileTransformer\n",
    "\n",
    "def add_border(img, color):\n",
    "    bordersize = 14\n",
    "    return cv2.copyMakeBorder(\n",
    "        img,\n",
    "        top=bordersize,\n",
    "        bottom=bordersize,\n",
    "        left=bordersize,\n",
    "        right=bordersize,\n",
    "        borderType=cv2.BORDER_CONSTANT,\n",
    "        value=color\n",
    "    )"
   ]
  },
  {
   "cell_type": "code",
   "execution_count": 3,
   "metadata": {},
   "outputs": [],
   "source": [
    "def load(infer_dirs, subset):\n",
    "    nens = len(infer_dirs)\n",
    "    embs = get_emb(infer_dirs, subset)\n",
    "    k, v = dict2list(embs)\n",
    "\n",
    "    for i in range(nens):\n",
    "        v[:, i, :] = normalize(v[:, i, :])\n",
    "    v = v.reshape(-1, 512 * nens)\n",
    "    return k, v"
   ]
  },
  {
   "cell_type": "code",
   "execution_count": 14,
   "metadata": {},
   "outputs": [
    {
     "name": "stdout",
     "output_type": "stream",
     "text": [
      "Ensemble from 4 models ['infer\\\\b5_pseudo_cutout_lb0.836', 'infer\\\\b5_pseudo_lb0.833', 'infer\\\\b5_pseudo_m0.6_lb0.842', 'infer\\\\b6_pseudo_lb0.83x']\n",
      "Ensemble from 4 models ['infer\\\\b5_pseudo_cutout_lb0.836', 'infer\\\\b5_pseudo_lb0.833', 'infer\\\\b5_pseudo_m0.6_lb0.842', 'infer\\\\b6_pseudo_lb0.83x']\n"
     ]
    },
    {
     "data": {
      "text/plain": [
       "NearestNeighbors(metric='cosine', n_neighbors=100)"
      ]
     },
     "execution_count": 14,
     "metadata": {},
     "output_type": "execute_result"
    }
   ],
   "source": [
    "# assert False\n",
    "from sklearn.neighbors import NearestNeighbors\n",
    "n_neighbors = 100\n",
    "knn = NearestNeighbors(n_neighbors=n_neighbors,metric='cosine')\n",
    "\n",
    "train_k, train_v = load(infer_dirs, 'train')\n",
    "test_k, test_v = load(infer_dirs, 'test')\n",
    "quantile = True\n",
    "f = QuantileTransformer(output_distribution=\"normal\")\n",
    "if quantile:\n",
    "    f.fit(test_v)\n",
    "    train_v = f.transform(train_v)\n",
    "    test_v = f.transform(test_v)\n",
    "knn.fit(train_v)"
   ]
  },
  {
   "cell_type": "code",
   "execution_count": 15,
   "metadata": {},
   "outputs": [],
   "source": [
    "distances, idxs = knn.kneighbors(test_v, n_neighbors, return_distance=True)"
   ]
  },
  {
   "cell_type": "code",
   "execution_count": 16,
   "metadata": {},
   "outputs": [
    {
     "name": "stderr",
     "output_type": "stream",
     "text": [
      "100%|██████████| 27956/27956 [00:04<00:00, 6482.07it/s]\n"
     ]
    },
    {
     "data": {
      "text/html": [
       "<div>\n",
       "<style scoped>\n",
       "    .dataframe tbody tr th:only-of-type {\n",
       "        vertical-align: middle;\n",
       "    }\n",
       "\n",
       "    .dataframe tbody tr th {\n",
       "        vertical-align: top;\n",
       "    }\n",
       "\n",
       "    .dataframe thead th {\n",
       "        text-align: right;\n",
       "    }\n",
       "</style>\n",
       "<table border=\"1\" class=\"dataframe\">\n",
       "  <thead>\n",
       "    <tr style=\"text-align: right;\">\n",
       "      <th></th>\n",
       "      <th>image</th>\n",
       "      <th>target</th>\n",
       "      <th>confidence</th>\n",
       "    </tr>\n",
       "  </thead>\n",
       "  <tbody>\n",
       "    <tr>\n",
       "      <th>0</th>\n",
       "      <td>fe41a5bf4593bc.jpg</td>\n",
       "      <td>84a261c0e5cf</td>\n",
       "      <td>0.999504</td>\n",
       "    </tr>\n",
       "    <tr>\n",
       "      <th>1</th>\n",
       "      <td>dd5f7eb1cbe207.jpg</td>\n",
       "      <td>84a261c0e5cf</td>\n",
       "      <td>0.999496</td>\n",
       "    </tr>\n",
       "    <tr>\n",
       "      <th>2</th>\n",
       "      <td>7a785b700b0339.jpg</td>\n",
       "      <td>c93996835aa8</td>\n",
       "      <td>0.999414</td>\n",
       "    </tr>\n",
       "  </tbody>\n",
       "</table>\n",
       "</div>"
      ],
      "text/plain": [
       "                image        target  confidence\n",
       "0  fe41a5bf4593bc.jpg  84a261c0e5cf    0.999504\n",
       "1  dd5f7eb1cbe207.jpg  84a261c0e5cf    0.999496\n",
       "2  7a785b700b0339.jpg  c93996835aa8    0.999414"
      ]
     },
     "execution_count": 16,
     "metadata": {},
     "output_type": "execute_result"
    }
   ],
   "source": [
    "from tqdm import tqdm\n",
    "\n",
    "test_df = []\n",
    "train_k = np.asarray(train_k)\n",
    "img2id = dict(zip(train_df.image, train_df.individual_id))\n",
    "\n",
    "for i in tqdm(range(len(test_k))):\n",
    "    dist, idx = distances[i], idxs[i]\n",
    "    for d, id in zip(dist, idx):\n",
    "        img_id = train_k[id]\n",
    "        tar = img2id[img_id]\n",
    "        test_df.append([test_k[i], tar, d])\n",
    "\n",
    "    \n",
    "cols = ['image', 'target', 'distances']\n",
    "test_df = pd.DataFrame(test_df, columns=cols)\n",
    "raw_test_df = test_df.copy()\n",
    "test_df['confidence'] = 1-test_df['distances']\n",
    "test_df = test_df.groupby(cols[:2]).confidence.max().reset_index()\n",
    "test_df = test_df.sort_values('confidence',ascending=False).reset_index(drop=True)\n",
    "test_df.to_csv('test_neighbors.csv')\n",
    "test_df.head(3)"
   ]
  },
  {
   "cell_type": "code",
   "execution_count": 17,
   "metadata": {},
   "outputs": [
    {
     "data": {
      "text/html": [
       "<div>\n",
       "<style scoped>\n",
       "    .dataframe tbody tr th:only-of-type {\n",
       "        vertical-align: middle;\n",
       "    }\n",
       "\n",
       "    .dataframe tbody tr th {\n",
       "        vertical-align: top;\n",
       "    }\n",
       "\n",
       "    .dataframe thead th {\n",
       "        text-align: right;\n",
       "    }\n",
       "</style>\n",
       "<table border=\"1\" class=\"dataframe\">\n",
       "  <thead>\n",
       "    <tr style=\"text-align: right;\">\n",
       "      <th></th>\n",
       "      <th>image</th>\n",
       "      <th>target</th>\n",
       "      <th>confidence</th>\n",
       "    </tr>\n",
       "  </thead>\n",
       "  <tbody>\n",
       "    <tr>\n",
       "      <th>0</th>\n",
       "      <td>fe41a5bf4593bc.jpg</td>\n",
       "      <td>84a261c0e5cf</td>\n",
       "      <td>0.999504</td>\n",
       "    </tr>\n",
       "    <tr>\n",
       "      <th>1</th>\n",
       "      <td>dd5f7eb1cbe207.jpg</td>\n",
       "      <td>84a261c0e5cf</td>\n",
       "      <td>0.999496</td>\n",
       "    </tr>\n",
       "    <tr>\n",
       "      <th>2</th>\n",
       "      <td>7a785b700b0339.jpg</td>\n",
       "      <td>c93996835aa8</td>\n",
       "      <td>0.999414</td>\n",
       "    </tr>\n",
       "  </tbody>\n",
       "</table>\n",
       "</div>"
      ],
      "text/plain": [
       "                image        target  confidence\n",
       "0  fe41a5bf4593bc.jpg  84a261c0e5cf    0.999504\n",
       "1  dd5f7eb1cbe207.jpg  84a261c0e5cf    0.999496\n",
       "2  7a785b700b0339.jpg  c93996835aa8    0.999414"
      ]
     },
     "execution_count": 17,
     "metadata": {},
     "output_type": "execute_result"
    }
   ],
   "source": [
    "def accum(x):\n",
    "    # if len(x) > 3 and np.max(x) < 0.51:\n",
    "    #     return np.max(x) - 0.002 * len(x)\n",
    "    r = np.sum([v ** (8 * (i + 1)) for i, v in enumerate(x)])\n",
    "    return r\n",
    "\n",
    "raw_test_df['confidence'] = 1 - raw_test_df['distances']\n",
    "test_df = raw_test_df.groupby(['image','target']).confidence.max().reset_index()\n",
    "test_df = test_df.sort_values(['confidence'], ascending=False).reset_index(drop=True)\n",
    "test_df.head(3)"
   ]
  },
  {
   "cell_type": "code",
   "execution_count": 18,
   "metadata": {},
   "outputs": [
    {
     "name": "stdout",
     "output_type": "stream",
     "text": [
      "THR: 0.49110000000000004: 0.21505222492488196\n"
     ]
    }
   ],
   "source": [
    "xt = test_df.groupby('image').confidence.max().reset_index()\n",
    "for thr in np.arange(0.0, 0.55, 0.0001):\n",
    "    r = len(xt[xt['confidence'] <= thr]) / len(xt)\n",
    "    if abs(r - 0.22) < 0.005:\n",
    "        print(f\"THR: {thr}: {r}\")\n",
    "        break"
   ]
  },
  {
   "cell_type": "code",
   "execution_count": 19,
   "metadata": {},
   "outputs": [
    {
     "name": "stderr",
     "output_type": "stream",
     "text": [
      "100%|██████████| 1183022/1183022 [01:00<00:00, 19482.32it/s]\n",
      "100%|██████████| 27956/27956 [00:00<00:00, 965673.69it/s]"
     ]
    },
    {
     "name": "stdout",
     "output_type": "stream",
     "text": [
      "1115\n"
     ]
    },
    {
     "name": "stderr",
     "output_type": "stream",
     "text": [
      "\n"
     ]
    },
    {
     "data": {
      "text/html": [
       "<div>\n",
       "<style scoped>\n",
       "    .dataframe tbody tr th:only-of-type {\n",
       "        vertical-align: middle;\n",
       "    }\n",
       "\n",
       "    .dataframe tbody tr th {\n",
       "        vertical-align: top;\n",
       "    }\n",
       "\n",
       "    .dataframe thead th {\n",
       "        text-align: right;\n",
       "    }\n",
       "</style>\n",
       "<table border=\"1\" class=\"dataframe\">\n",
       "  <thead>\n",
       "    <tr style=\"text-align: right;\">\n",
       "      <th></th>\n",
       "      <th>image</th>\n",
       "      <th>predictions</th>\n",
       "    </tr>\n",
       "  </thead>\n",
       "  <tbody>\n",
       "    <tr>\n",
       "      <th>0</th>\n",
       "      <td>fe41a5bf4593bc.jpg</td>\n",
       "      <td>84a261c0e5cf new_individual cf0aca801a93 a8e1f...</td>\n",
       "    </tr>\n",
       "    <tr>\n",
       "      <th>1</th>\n",
       "      <td>dd5f7eb1cbe207.jpg</td>\n",
       "      <td>84a261c0e5cf new_individual cf0aca801a93 a8e1f...</td>\n",
       "    </tr>\n",
       "    <tr>\n",
       "      <th>2</th>\n",
       "      <td>7a785b700b0339.jpg</td>\n",
       "      <td>c93996835aa8 new_individual d36d5a07500f 39af3...</td>\n",
       "    </tr>\n",
       "    <tr>\n",
       "      <th>3</th>\n",
       "      <td>8de09ac45aa1df.jpg</td>\n",
       "      <td>7fdeba948ee8 new_individual 0f35764e14aa 5da93...</td>\n",
       "    </tr>\n",
       "    <tr>\n",
       "      <th>4</th>\n",
       "      <td>e9abb76a5bed89.jpg</td>\n",
       "      <td>35f898e6595e new_individual c737ccb75e16 524b4...</td>\n",
       "    </tr>\n",
       "  </tbody>\n",
       "</table>\n",
       "</div>"
      ],
      "text/plain": [
       "                image                                        predictions\n",
       "0  fe41a5bf4593bc.jpg  84a261c0e5cf new_individual cf0aca801a93 a8e1f...\n",
       "1  dd5f7eb1cbe207.jpg  84a261c0e5cf new_individual cf0aca801a93 a8e1f...\n",
       "2  7a785b700b0339.jpg  c93996835aa8 new_individual d36d5a07500f 39af3...\n",
       "3  8de09ac45aa1df.jpg  7fdeba948ee8 new_individual 0f35764e14aa 5da93...\n",
       "4  e9abb76a5bed89.jpg  35f898e6595e new_individual c737ccb75e16 524b4..."
      ]
     },
     "execution_count": 19,
     "metadata": {},
     "output_type": "execute_result"
    }
   ],
   "source": [
    "predictions = {}\n",
    "sample_list = ['938b7e931166', '5bf17305f073', '7593d2aee842', '7362d7a01d00','956562ff2888']\n",
    "\n",
    "for i,row in tqdm(test_df.iterrows(), total=len(test_df)):\n",
    "    if row.image in predictions:\n",
    "        if len(predictions[row.image])==5:\n",
    "            continue\n",
    "        predictions[row.image].append(row.target)\n",
    "    elif row.confidence>.5:\n",
    "        predictions[row.image] = [row.target,'new_individual']\n",
    "    else:\n",
    "        predictions[row.image] = ['new_individual',row.target]\n",
    "\n",
    "c = 0\n",
    "for x in tqdm(predictions):\n",
    "    if len(predictions[x])<5:\n",
    "        c+=1\n",
    "        remaining = [y for y in sample_list if y not in predictions]\n",
    "        predictions[x] = predictions[x]+remaining\n",
    "        predictions[x] = predictions[x][:5]\n",
    "    predictions[x] = ' '.join(predictions[x])\n",
    "predictions = pd.Series(predictions).reset_index()\n",
    "predictions.columns = ['image','predictions']\n",
    "submit_file = 'submission_mean.csv'\n",
    "if quantile:\n",
    "    submit_file = 'submission_quantile.csv'\n",
    "predictions.to_csv(submit_file,index=False)\n",
    "predictions.head()"
   ]
  },
  {
   "cell_type": "code",
   "execution_count": 22,
   "metadata": {},
   "outputs": [
    {
     "data": {
      "text/plain": [
       "0.9932393761625411"
      ]
     },
     "execution_count": 22,
     "metadata": {},
     "output_type": "execute_result"
    }
   ],
   "source": [
    "# v1 = pd.read_csv('C:/Users/msi/Downloads/effnetv1_b5_avg_768_m0.5_drop0.3_cutout_full_pseudo_submission.csv')\n",
    "# v2 = pd.read_csv('C:/Users/msi/Downloads/effnetv1_b5_avg_768_full_pseudo_m0.5_lseps0.01_submission.csv')\n",
    "v1 = pd.read_csv('submission_quantile.csv')\n",
    "v2 = pd.read_csv('submission_mean.csv')\n",
    "v1['top1'] = v1['predictions'].str.split(' ', 1).str[0]\n",
    "v2['top1'] = v2['predictions'].str.split(' ', 1).str[0]\n",
    "m = v1.merge(v2, on='image', how='left')\n",
    "(m.top1_x == m.top1_y).mean()\n",
    "# (m.predictions_x == m.predictions_y).mean()"
   ]
  }
 ],
 "metadata": {
  "interpreter": {
   "hash": "0d4bc70c65d06e1543861fe65a0e2a7420176491a9e60a2c8babf4d7456b2d28"
  },
  "kernelspec": {
   "display_name": "Python 3.7.9 64-bit",
   "language": "python",
   "name": "python3"
  },
  "language_info": {
   "codemirror_mode": {
    "name": "ipython",
    "version": 3
   },
   "file_extension": ".py",
   "mimetype": "text/x-python",
   "name": "python",
   "nbconvert_exporter": "python",
   "pygments_lexer": "ipython3",
   "version": "3.7.9"
  },
  "orig_nbformat": 4
 },
 "nbformat": 4,
 "nbformat_minor": 2
}
