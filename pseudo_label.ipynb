{
 "cells": [
  {
   "cell_type": "code",
   "execution_count": 4,
   "metadata": {},
   "outputs": [],
   "source": [
    "import pandas as pd\n",
    "\n",
    "x = pd.read_csv('test_neighbors.csv')\n",
    "x_good = x[x['confidence'] >= 0.88]"
   ]
  },
  {
   "cell_type": "code",
   "execution_count": 5,
   "metadata": {},
   "outputs": [
    {
     "name": "stdout",
     "output_type": "stream",
     "text": [
      "8565\n"
     ]
    },
    {
     "data": {
      "text/html": [
       "<div>\n",
       "<style scoped>\n",
       "    .dataframe tbody tr th:only-of-type {\n",
       "        vertical-align: middle;\n",
       "    }\n",
       "\n",
       "    .dataframe tbody tr th {\n",
       "        vertical-align: top;\n",
       "    }\n",
       "\n",
       "    .dataframe thead th {\n",
       "        text-align: right;\n",
       "    }\n",
       "</style>\n",
       "<table border=\"1\" class=\"dataframe\">\n",
       "  <thead>\n",
       "    <tr style=\"text-align: right;\">\n",
       "      <th></th>\n",
       "      <th>Unnamed: 0</th>\n",
       "      <th>image</th>\n",
       "      <th>target</th>\n",
       "      <th>confidence</th>\n",
       "    </tr>\n",
       "  </thead>\n",
       "  <tbody>\n",
       "    <tr>\n",
       "      <th>0</th>\n",
       "      <td>0</td>\n",
       "      <td>7a785b700b0339.jpg</td>\n",
       "      <td>c93996835aa8</td>\n",
       "      <td>0.998768</td>\n",
       "    </tr>\n",
       "    <tr>\n",
       "      <th>1</th>\n",
       "      <td>1</td>\n",
       "      <td>e9abb76a5bed89.jpg</td>\n",
       "      <td>35f898e6595e</td>\n",
       "      <td>0.998136</td>\n",
       "    </tr>\n",
       "    <tr>\n",
       "      <th>2</th>\n",
       "      <td>2</td>\n",
       "      <td>dd19360cf04d76.jpg</td>\n",
       "      <td>be3543fc7c74</td>\n",
       "      <td>0.998003</td>\n",
       "    </tr>\n",
       "    <tr>\n",
       "      <th>3</th>\n",
       "      <td>3</td>\n",
       "      <td>5fb61ff7e07076.jpg</td>\n",
       "      <td>2e0b381d3467</td>\n",
       "      <td>0.998002</td>\n",
       "    </tr>\n",
       "    <tr>\n",
       "      <th>4</th>\n",
       "      <td>4</td>\n",
       "      <td>4f0f0059ce10a8.jpg</td>\n",
       "      <td>a52e4ad2dbb3</td>\n",
       "      <td>0.997989</td>\n",
       "    </tr>\n",
       "    <tr>\n",
       "      <th>...</th>\n",
       "      <td>...</td>\n",
       "      <td>...</td>\n",
       "      <td>...</td>\n",
       "      <td>...</td>\n",
       "    </tr>\n",
       "    <tr>\n",
       "      <th>8565</th>\n",
       "      <td>8565</td>\n",
       "      <td>733de6ee6e94ab.jpg</td>\n",
       "      <td>f23e1bfa6f21</td>\n",
       "      <td>0.900128</td>\n",
       "    </tr>\n",
       "    <tr>\n",
       "      <th>8566</th>\n",
       "      <td>8566</td>\n",
       "      <td>d98e621aad64fc.jpg</td>\n",
       "      <td>250c3fdb9da6</td>\n",
       "      <td>0.900114</td>\n",
       "    </tr>\n",
       "    <tr>\n",
       "      <th>8567</th>\n",
       "      <td>8567</td>\n",
       "      <td>10b04079383294.jpg</td>\n",
       "      <td>51081e431bca</td>\n",
       "      <td>0.900104</td>\n",
       "    </tr>\n",
       "    <tr>\n",
       "      <th>8568</th>\n",
       "      <td>8568</td>\n",
       "      <td>86291f48d5cfc2.jpg</td>\n",
       "      <td>2031cc30679e</td>\n",
       "      <td>0.900028</td>\n",
       "    </tr>\n",
       "    <tr>\n",
       "      <th>8569</th>\n",
       "      <td>8569</td>\n",
       "      <td>548e451dab4021.jpg</td>\n",
       "      <td>ec89b3f08779</td>\n",
       "      <td>0.900004</td>\n",
       "    </tr>\n",
       "  </tbody>\n",
       "</table>\n",
       "<p>8570 rows × 4 columns</p>\n",
       "</div>"
      ],
      "text/plain": [
       "      Unnamed: 0               image        target  confidence\n",
       "0              0  7a785b700b0339.jpg  c93996835aa8    0.998768\n",
       "1              1  e9abb76a5bed89.jpg  35f898e6595e    0.998136\n",
       "2              2  dd19360cf04d76.jpg  be3543fc7c74    0.998003\n",
       "3              3  5fb61ff7e07076.jpg  2e0b381d3467    0.998002\n",
       "4              4  4f0f0059ce10a8.jpg  a52e4ad2dbb3    0.997989\n",
       "...          ...                 ...           ...         ...\n",
       "8565        8565  733de6ee6e94ab.jpg  f23e1bfa6f21    0.900128\n",
       "8566        8566  d98e621aad64fc.jpg  250c3fdb9da6    0.900114\n",
       "8567        8567  10b04079383294.jpg  51081e431bca    0.900104\n",
       "8568        8568  86291f48d5cfc2.jpg  2031cc30679e    0.900028\n",
       "8569        8569  548e451dab4021.jpg  ec89b3f08779    0.900004\n",
       "\n",
       "[8570 rows x 4 columns]"
      ]
     },
     "execution_count": 5,
     "metadata": {},
     "output_type": "execute_result"
    }
   ],
   "source": [
    "print(x_good['image'].nunique())\n",
    "x_good"
   ]
  },
  {
   "cell_type": "code",
   "execution_count": 3,
   "metadata": {},
   "outputs": [
    {
     "data": {
      "text/html": [
       "<div>\n",
       "<style scoped>\n",
       "    .dataframe tbody tr th:only-of-type {\n",
       "        vertical-align: middle;\n",
       "    }\n",
       "\n",
       "    .dataframe tbody tr th {\n",
       "        vertical-align: top;\n",
       "    }\n",
       "\n",
       "    .dataframe thead th {\n",
       "        text-align: right;\n",
       "    }\n",
       "</style>\n",
       "<table border=\"1\" class=\"dataframe\">\n",
       "  <thead>\n",
       "    <tr style=\"text-align: right;\">\n",
       "      <th></th>\n",
       "      <th>Unnamed: 0</th>\n",
       "      <th>image</th>\n",
       "      <th>target</th>\n",
       "      <th>confidence</th>\n",
       "    </tr>\n",
       "  </thead>\n",
       "  <tbody>\n",
       "  </tbody>\n",
       "</table>\n",
       "</div>"
      ],
      "text/plain": [
       "Empty DataFrame\n",
       "Columns: [Unnamed: 0, image, target, confidence]\n",
       "Index: []"
      ]
     },
     "execution_count": 3,
     "metadata": {},
     "output_type": "execute_result"
    }
   ],
   "source": [
    "x[x['confidence'] < 0.1]"
   ]
  }
 ],
 "metadata": {
  "interpreter": {
   "hash": "aee8b7b246df8f9039afb4144a1f6fd8d2ca17a180786b69acc140d282b71a49"
  },
  "kernelspec": {
   "display_name": "Python 3.8.10 64-bit",
   "language": "python",
   "name": "python3"
  },
  "language_info": {
   "codemirror_mode": {
    "name": "ipython",
    "version": 3
   },
   "file_extension": ".py",
   "mimetype": "text/x-python",
   "name": "python",
   "nbconvert_exporter": "python",
   "pygments_lexer": "ipython3",
   "version": "3.7.9"
  },
  "orig_nbformat": 4
 },
 "nbformat": 4,
 "nbformat_minor": 2
}
