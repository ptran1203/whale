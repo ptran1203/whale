{
 "cells": [
  {
   "cell_type": "code",
   "execution_count": 6,
   "metadata": {},
   "outputs": [],
   "source": [
    "import pandas as pd\n",
    "\n",
    "x = pd.read_csv('test_neighbors.csv')\n",
    "x = x.groupby(['image', 'target']).confidence.max().reset_index()\n",
    "x_good = x[x['confidence'] >= 0.88]\n"
   ]
  },
  {
   "cell_type": "code",
   "execution_count": 7,
   "metadata": {},
   "outputs": [
    {
     "name": "stdout",
     "output_type": "stream",
     "text": [
      "6567\n"
     ]
    },
    {
     "data": {
      "text/html": [
       "<div>\n",
       "<style scoped>\n",
       "    .dataframe tbody tr th:only-of-type {\n",
       "        vertical-align: middle;\n",
       "    }\n",
       "\n",
       "    .dataframe tbody tr th {\n",
       "        vertical-align: top;\n",
       "    }\n",
       "\n",
       "    .dataframe thead th {\n",
       "        text-align: right;\n",
       "    }\n",
       "</style>\n",
       "<table border=\"1\" class=\"dataframe\">\n",
       "  <thead>\n",
       "    <tr style=\"text-align: right;\">\n",
       "      <th></th>\n",
       "      <th>image</th>\n",
       "      <th>target</th>\n",
       "      <th>confidence</th>\n",
       "    </tr>\n",
       "  </thead>\n",
       "  <tbody>\n",
       "    <tr>\n",
       "      <th>51</th>\n",
       "      <td>000110707af0ba.jpg</td>\n",
       "      <td>fbe2b15b5481</td>\n",
       "      <td>0.884013</td>\n",
       "    </tr>\n",
       "    <tr>\n",
       "      <th>254</th>\n",
       "      <td>000eb6e73a31a5.jpg</td>\n",
       "      <td>77410a623426</td>\n",
       "      <td>0.905438</td>\n",
       "    </tr>\n",
       "    <tr>\n",
       "      <th>280</th>\n",
       "      <td>000fe6ebfc9893.jpg</td>\n",
       "      <td>8805324885f2</td>\n",
       "      <td>0.916640</td>\n",
       "    </tr>\n",
       "    <tr>\n",
       "      <th>383</th>\n",
       "      <td>0012ff300032e3.jpg</td>\n",
       "      <td>19b638e11443</td>\n",
       "      <td>0.900759</td>\n",
       "    </tr>\n",
       "    <tr>\n",
       "      <th>406</th>\n",
       "      <td>00150406ce5395.jpg</td>\n",
       "      <td>2280b5fcc6c2</td>\n",
       "      <td>0.942819</td>\n",
       "    </tr>\n",
       "    <tr>\n",
       "      <th>...</th>\n",
       "      <td>...</td>\n",
       "      <td>...</td>\n",
       "      <td>...</td>\n",
       "    </tr>\n",
       "    <tr>\n",
       "      <th>1126757</th>\n",
       "      <td>ffbaca883bb0ed.jpg</td>\n",
       "      <td>02816399a26c</td>\n",
       "      <td>0.937097</td>\n",
       "    </tr>\n",
       "    <tr>\n",
       "      <th>1126865</th>\n",
       "      <td>ffc4d98e8572aa.jpg</td>\n",
       "      <td>5ac053677ed1</td>\n",
       "      <td>0.910878</td>\n",
       "    </tr>\n",
       "    <tr>\n",
       "      <th>1127016</th>\n",
       "      <td>ffcfa984f1584f.jpg</td>\n",
       "      <td>5673ef5d216b</td>\n",
       "      <td>0.928537</td>\n",
       "    </tr>\n",
       "    <tr>\n",
       "      <th>1127194</th>\n",
       "      <td>ffdadb1efd04a3.jpg</td>\n",
       "      <td>8274ddd12a43</td>\n",
       "      <td>0.907153</td>\n",
       "    </tr>\n",
       "    <tr>\n",
       "      <th>1127313</th>\n",
       "      <td>ffe1b64f16d82b.jpg</td>\n",
       "      <td>dd8c756c9cb7</td>\n",
       "      <td>0.952867</td>\n",
       "    </tr>\n",
       "  </tbody>\n",
       "</table>\n",
       "<p>6573 rows × 3 columns</p>\n",
       "</div>"
      ],
      "text/plain": [
       "                      image        target  confidence\n",
       "51       000110707af0ba.jpg  fbe2b15b5481    0.884013\n",
       "254      000eb6e73a31a5.jpg  77410a623426    0.905438\n",
       "280      000fe6ebfc9893.jpg  8805324885f2    0.916640\n",
       "383      0012ff300032e3.jpg  19b638e11443    0.900759\n",
       "406      00150406ce5395.jpg  2280b5fcc6c2    0.942819\n",
       "...                     ...           ...         ...\n",
       "1126757  ffbaca883bb0ed.jpg  02816399a26c    0.937097\n",
       "1126865  ffc4d98e8572aa.jpg  5ac053677ed1    0.910878\n",
       "1127016  ffcfa984f1584f.jpg  5673ef5d216b    0.928537\n",
       "1127194  ffdadb1efd04a3.jpg  8274ddd12a43    0.907153\n",
       "1127313  ffe1b64f16d82b.jpg  dd8c756c9cb7    0.952867\n",
       "\n",
       "[6573 rows x 3 columns]"
      ]
     },
     "execution_count": 7,
     "metadata": {},
     "output_type": "execute_result"
    }
   ],
   "source": [
    "print(x_good['image'].nunique())\n",
    "x_good"
   ]
  },
  {
   "cell_type": "code",
   "execution_count": 9,
   "metadata": {},
   "outputs": [
    {
     "data": {
      "text/plain": [
       "6"
      ]
     },
     "execution_count": 9,
     "metadata": {},
     "output_type": "execute_result"
    }
   ],
   "source": [
    "x_good.image.duplicated().sum()"
   ]
  }
 ],
 "metadata": {
  "interpreter": {
   "hash": "aee8b7b246df8f9039afb4144a1f6fd8d2ca17a180786b69acc140d282b71a49"
  },
  "kernelspec": {
   "display_name": "Python 3.8.10 64-bit",
   "language": "python",
   "name": "python3"
  },
  "language_info": {
   "codemirror_mode": {
    "name": "ipython",
    "version": 3
   },
   "file_extension": ".py",
   "mimetype": "text/x-python",
   "name": "python",
   "nbconvert_exporter": "python",
   "pygments_lexer": "ipython3",
   "version": "3.8.10"
  },
  "orig_nbformat": 4
 },
 "nbformat": 4,
 "nbformat_minor": 2
}
