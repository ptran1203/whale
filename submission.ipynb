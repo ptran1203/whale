{
 "cells": [
  {
   "cell_type": "code",
   "execution_count": null,
   "metadata": {},
   "outputs": [],
   "source": [
    "from utils import pickle_load\n",
    "import numpy as np\n",
    "import matplotlib.pyplot as plt\n",
    "import seaborn as sns\n",
    "import cv2\n",
    "import pandas as pd\n",
    "import os\n",
    "from glob import glob\n",
    "from evaluate import compute_sim, evaluate, l2norm_numpy\n",
    "from evaluate import dict2list\n",
    "\n",
    "def l2norm(embs):\n",
    "    return {k: v/np.linalg.norm(v) for k, v in embs.items()}\n",
    "\n",
    "infer_dirs = [\n",
    "    '/Users/macbook/Downloads/b5_768_sgd_lsep0.1_632',\n",
    "    '/Users/macbook/Downloads/b5_768_adam_lsep0.1_657'\n",
    "][1:]\n",
    "\n",
    "infer_dirs = glob('infer/*')[:]\n",
    "# infer_dirs = infer_dirs[1:]\n",
    "infer_dirs = [x for x in infer_dirs if 'bk' not in x]\n",
    "weights = [1.0] * len(infer_dirs)\n",
    "# weights = [1.0, 0.5, 0.5]\n",
    "\n",
    "print(f\"Ensemble of {len(infer_dirs)} models\")\n",
    "\n",
    "submit_file = f'submission.csv'\n",
    "if os.path.exists('D:/whale_data/train_images-384-384/train_images-384-384'):\n",
    "    train_img_dir = 'D:/whale_data/train_images-384-384/train_images-384-384'\n",
    "else:\n",
    "    train_img_dir = '/Users/macbook/works/train_images-384-384'\n",
    "\n",
    "norm=True\n",
    "method = 'cat'\n",
    "\n",
    "def get_emb(infer_dirs, subset, weights):\n",
    "    li = []\n",
    "    for infer_dir in infer_dirs:\n",
    "        if isinstance(subset, str):\n",
    "            embs = pickle_load(f\"{infer_dir}/{subset}_emb.pkl\")\n",
    "        else:\n",
    "            embs = {}\n",
    "            for s in subset:\n",
    "                p = f\"{infer_dir}/{s}_emb.pkl\"\n",
    "                if os.path.exists(p):\n",
    "                    embs = {**embs, **pickle_load(p)}\n",
    "                elif s != \"val\":\n",
    "                    raise FileNotFoundError(p)\n",
    "\n",
    "        li.append(embs)\n",
    "\n",
    "    if len(li) == 1:\n",
    "        return li[0]\n",
    "\n",
    "    print(f'Ensemble from {len(infer_dirs)} models {infer_dirs}')\n",
    "    li0 = li[0]\n",
    "    di = {}\n",
    "    for k in li0.keys():\n",
    "        di[k] = []\n",
    "        for i in range(len(li)):\n",
    "            e = li[i][k]\n",
    "            if norm:\n",
    "                e = e / np.linalg.norm(e)\n",
    "            di[k].append(e)\n",
    "        \n",
    "        if method == 'cat':\n",
    "            di[k] = np.concatenate(di[k], 0)\n",
    "        else:\n",
    "            # Mean\n",
    "            di[k] = np.mean(di[k], 0)\n",
    "\n",
    "    return di\n",
    "\n",
    "train_df = pd.read_csv('data/train_kfold.csv')\n",
    "\n",
    "train_embs = get_emb(infer_dirs, 'train', weights)\n",
    "test_embs = get_emb(infer_dirs, 'test', weights)\n",
    "val_embs = get_emb(infer_dirs, 'val', weights)\n",
    "\n",
    "# train_embs = l2norm(train_embs)\n",
    "# test_embs = l2norm(test_embs)\n",
    "# val_embs = l2norm(val_embs)\n",
    "\n",
    "len(train_embs) + len(val_embs)"
   ]
  },
  {
   "cell_type": "code",
   "execution_count": null,
   "metadata": {},
   "outputs": [],
   "source": [
    "val_df = train_df[train_df.subset == 'test'].reset_index()\n",
    "val_map = dict(zip(val_df.image, val_df.individual_id))\n",
    "train_map = dict(zip(train_df.image, train_df.individual_id))\n",
    "spec_map = dict(zip(train_df.image, train_df.species))\n",
    "# val_imgs = val_df.image.unique()\n",
    "# val_embs = {k: train_embs[k] for k in val_imgs}"
   ]
  },
  {
   "cell_type": "code",
   "execution_count": null,
   "metadata": {},
   "outputs": [
    {
     "name": "stderr",
     "output_type": "stream",
     "text": [
      "100%|██████████| 10207/10207 [00:07<00:00, 1333.23it/s]\n"
     ]
    },
    {
     "data": {
      "text/plain": [
       "0.3367411253714771"
      ]
     },
     "execution_count": 53,
     "metadata": {},
     "output_type": "execute_result"
    }
   ],
   "source": [
    "from evaluate import compute_sim, evaluate, map_per_image, compute_simv2\n",
    "from evaluate import *\n",
    "\n",
    "score, val_sim_df = evaluate(train_df, train_embs, val_embs, norm=True)\n",
    "val_sim_df[\"gt\"] = val_sim_df.image.map(val_map)\n",
    "val_sim_df[\"map\"] = val_sim_df.apply(lambda row: map_per_image(row[\"gt\"], row.predictions.split(\" \")), axis=1)\n",
    "val_sim_df = val_sim_df.sort_values(\"map\")\n",
    "score"
   ]
  },
  {
   "cell_type": "code",
   "execution_count": null,
   "metadata": {},
   "outputs": [],
   "source": [
    "# raise"
   ]
  },
  {
   "cell_type": "code",
   "execution_count": null,
   "metadata": {},
   "outputs": [
    {
     "name": "stdout",
     "output_type": "stream",
     "text": [
      "(40826, 2048) (10207, 2048)\n"
     ]
    }
   ],
   "source": [
    "\n",
    "train_k, train_v = dict2list(train_embs)\n",
    "test_k, test_v = dict2list(val_embs)\n",
    "class_count_df = train_df.groupby('individual_id').size().to_frame('count').reset_index()\n",
    "class_count = dict(zip(class_count_df.individual_id, class_count_df['count']))\n",
    "print(train_v.shape, test_v.shape)\n",
    "train_v = l2norm_numpy(train_v)\n",
    "test_v = l2norm_numpy(test_v)\n",
    "train_ids = np.unique([train_map[x] for x in train_k])\n",
    "allowed = []\n",
    "for i, k in enumerate(test_k):\n",
    "    if train_map[k] in train_ids:\n",
    "        allowed.append(i)\n",
    "test_k, test_v = [test_k[i] for i in allowed], [test_v[i] for i in allowed]\n",
    "cosines = np.matmul(test_v, train_v.T)"
   ]
  },
  {
   "cell_type": "code",
   "execution_count": null,
   "metadata": {},
   "outputs": [],
   "source": [
    "def add_border(img, color):\n",
    "    bordersize = 14\n",
    "    return cv2.copyMakeBorder(\n",
    "        img,\n",
    "        top=bordersize,\n",
    "        bottom=bordersize,\n",
    "        left=bordersize,\n",
    "        right=bordersize,\n",
    "        borderType=cv2.BORDER_CONSTANT,\n",
    "        value=color\n",
    "    )\n",
    "\n",
    "c = 0\n",
    "for i, scores in enumerate(cosines):\n",
    "    if np.random.rand() < 0.1:\n",
    "        top = 7\n",
    "        sort_idx = np.argsort(-scores)\n",
    "        topk = [train_k[j] for j in sort_idx[:top]]\n",
    "        topk_score = [scores[j] for j in sort_idx[:top]]\n",
    "        topk_id = [train_map[x] for x in topk]\n",
    "        qid = test_k[i]\n",
    "        gt = train_map[qid]\n",
    "        c+=1\n",
    "        imgs = [cv2.imread(f'{train_img_dir}/{qid}')[:,:,::-1]]\n",
    "        for k, l in zip(topk, topk_id):\n",
    "            im = cv2.imread(f'{train_img_dir}/{k}')[:,:,::-1]\n",
    "            im = add_border(im, color=(255, 0, 0) if gt != l else (0, 128, 0))\n",
    "            imgs.append(im)\n",
    "        # Show image\n",
    "        fig = plt.figure(figsize=(25, 4))\n",
    "        columns = top + 1\n",
    "        rows = 1\n",
    "        for i2 in range(0, columns*rows):\n",
    "            fig.add_subplot(rows, columns, i2+1)\n",
    "            plt.title(f'{gt} {spec_map[qid]}' if i2 == 0 else f'{topk_score[i2 - 1]:.2f} {spec_map[topk[i2 -1]]}')\n",
    "            plt.imshow(imgs[i2])\n",
    "            plt.axis('off')\n",
    "        \n",
    "        plt.show()\n",
    "        \n",
    "    if c == 4:\n",
    "        break\n",
    "    "
   ]
  },
  {
   "cell_type": "code",
   "execution_count": null,
   "metadata": {},
   "outputs": [],
   "source": [
    "# val_sim_df\n",
    "\n",
    "# sim_df = compute_sim(train_df, {**train_embs, **val_embs}, test_embs, thr=0.5, norm=True)\n",
    "# sim_df[[\"image\", \"predictions\"]].to_csv('submission.csv', index=False)\n",
    "# sim_df.head()   "
   ]
  },
  {
   "cell_type": "code",
   "execution_count": 15,
   "metadata": {},
   "outputs": [
    {
     "name": "stdout",
     "output_type": "stream",
     "text": [
      "Ensemble from 7 models ['infer\\\\b5_768_full_datav11_lb0.804', 'infer\\\\b5_768_full_m0.4', 'infer\\\\b5_768_full_m0.4_lb0.807', 'infer\\\\b5_768_full_v10_lb0.809', 'infer\\\\b7_768_30e_full_lb0.794', 'infer\\\\b7_768_full_lb0.810', 'infer\\\\v2m_768_lb819']\n",
      "Ensemble from 7 models ['infer\\\\b5_768_full_datav11_lb0.804', 'infer\\\\b5_768_full_m0.4', 'infer\\\\b5_768_full_m0.4_lb0.807', 'infer\\\\b5_768_full_v10_lb0.809', 'infer\\\\b7_768_30e_full_lb0.794', 'infer\\\\b7_768_full_lb0.810', 'infer\\\\v2m_768_lb819']\n"
     ]
    },
    {
     "data": {
      "text/plain": [
       "NearestNeighbors(metric='cosine', n_neighbors=100)"
      ]
     },
     "execution_count": 15,
     "metadata": {},
     "output_type": "execute_result"
    }
   ],
   "source": [
    "# assert False\n",
    "from sklearn.neighbors import NearestNeighbors\n",
    "n_neighbors = 100\n",
    "knn = NearestNeighbors(n_neighbors=n_neighbors,metric='cosine')\n",
    "\n",
    "# diff fold\n",
    "db_embs = get_emb(infer_dirs, ['train', 'val'], weights)\n",
    "test_embs = get_emb(infer_dirs, 'test', weights)\n",
    "\n",
    "# db_embs = {**train_embs, **val_embs}\n",
    "\n",
    "train_k, train_v = dict2list(db_embs)\n",
    "test_k, test_v = dict2list(test_embs)\n",
    "knn.fit(train_v)"
   ]
  },
  {
   "cell_type": "code",
   "execution_count": 16,
   "metadata": {},
   "outputs": [],
   "source": [
    "distances, idxs = knn.kneighbors(test_v, n_neighbors, return_distance=True)"
   ]
  },
  {
   "cell_type": "code",
   "execution_count": 17,
   "metadata": {},
   "outputs": [
    {
     "name": "stderr",
     "output_type": "stream",
     "text": [
      "100%|██████████| 27956/27956 [00:04<00:00, 6070.90it/s]\n"
     ]
    },
    {
     "data": {
      "text/plain": [
       "1      634\n",
       "32     501\n",
       "29     484\n",
       "33     478\n",
       "31     471\n",
       "      ... \n",
       "94      24\n",
       "97      20\n",
       "98      17\n",
       "99      14\n",
       "100     10\n",
       "Name: image, Length: 100, dtype: int64"
      ]
     },
     "execution_count": 17,
     "metadata": {},
     "output_type": "execute_result"
    }
   ],
   "source": [
    "from tqdm import tqdm\n",
    "\n",
    "test_df = []\n",
    "train_k = np.asarray(train_k)\n",
    "img2id = dict(zip(train_df.image, train_df.individual_id))\n",
    "\n",
    "for i in tqdm(range(len(test_k))):\n",
    "    dist, idx = distances[i], idxs[i]\n",
    "    for d, id in zip(dist, idx):\n",
    "        img_id = train_k[id]\n",
    "        tar = img2id[img_id]\n",
    "        test_df.append([test_k[i], tar, d]) \n",
    "    \n",
    "test_df = pd.DataFrame(test_df, columns=['image', 'target', 'distances'])\n",
    "test_df['confidence'] = 1-test_df['distances']\n",
    "test_df = test_df.groupby(['image','target']).confidence.max().reset_index()\n",
    "test_df = test_df.sort_values('confidence',ascending=False).reset_index(drop=True)\n",
    "test_df.to_csv('test_neighbors.csv')\n",
    "test_df.image.value_counts().value_counts()"
   ]
  },
  {
   "cell_type": "code",
   "execution_count": 18,
   "metadata": {},
   "outputs": [
    {
     "name": "stderr",
     "output_type": "stream",
     "text": [
      "100%|██████████| 1112985/1112985 [00:56<00:00, 19680.34it/s]\n",
      "100%|██████████| 27956/27956 [00:00<00:00, 1118353.05it/s]\n"
     ]
    },
    {
     "data": {
      "text/html": [
       "<div>\n",
       "<style scoped>\n",
       "    .dataframe tbody tr th:only-of-type {\n",
       "        vertical-align: middle;\n",
       "    }\n",
       "\n",
       "    .dataframe tbody tr th {\n",
       "        vertical-align: top;\n",
       "    }\n",
       "\n",
       "    .dataframe thead th {\n",
       "        text-align: right;\n",
       "    }\n",
       "</style>\n",
       "<table border=\"1\" class=\"dataframe\">\n",
       "  <thead>\n",
       "    <tr style=\"text-align: right;\">\n",
       "      <th></th>\n",
       "      <th>image</th>\n",
       "      <th>predictions</th>\n",
       "    </tr>\n",
       "  </thead>\n",
       "  <tbody>\n",
       "    <tr>\n",
       "      <th>0</th>\n",
       "      <td>5c9e04a6e6a9a2.jpg</td>\n",
       "      <td>547afd43d437 new_individual c295e46e85d8 5b928...</td>\n",
       "    </tr>\n",
       "    <tr>\n",
       "      <th>1</th>\n",
       "      <td>7a785b700b0339.jpg</td>\n",
       "      <td>c93996835aa8 new_individual f7e7c3f97977 d36d5...</td>\n",
       "    </tr>\n",
       "    <tr>\n",
       "      <th>2</th>\n",
       "      <td>5c015d70904aa1.jpg</td>\n",
       "      <td>6b16eb426875 new_individual 077a5cc373ed 8c00b...</td>\n",
       "    </tr>\n",
       "    <tr>\n",
       "      <th>3</th>\n",
       "      <td>3c52966f74d2ad.jpg</td>\n",
       "      <td>978520860ceb new_individual a57eaab4496d 1aae4...</td>\n",
       "    </tr>\n",
       "    <tr>\n",
       "      <th>4</th>\n",
       "      <td>50df0a954eb94c.jpg</td>\n",
       "      <td>713eb1a00c3d new_individual 025dcdf9b2f8 9a8be...</td>\n",
       "    </tr>\n",
       "  </tbody>\n",
       "</table>\n",
       "</div>"
      ],
      "text/plain": [
       "                image                                        predictions\n",
       "0  5c9e04a6e6a9a2.jpg  547afd43d437 new_individual c295e46e85d8 5b928...\n",
       "1  7a785b700b0339.jpg  c93996835aa8 new_individual f7e7c3f97977 d36d5...\n",
       "2  5c015d70904aa1.jpg  6b16eb426875 new_individual 077a5cc373ed 8c00b...\n",
       "3  3c52966f74d2ad.jpg  978520860ceb new_individual a57eaab4496d 1aae4...\n",
       "4  50df0a954eb94c.jpg  713eb1a00c3d new_individual 025dcdf9b2f8 9a8be..."
      ]
     },
     "execution_count": 18,
     "metadata": {},
     "output_type": "execute_result"
    }
   ],
   "source": [
    "predictions = {}\n",
    "sample_list = ['938b7e931166', '5bf17305f073', '7593d2aee842', '7362d7a01d00','956562ff2888']\n",
    "\n",
    "for i,row in tqdm(test_df.iterrows(), total=len(test_df)):\n",
    "    if row.image in predictions:\n",
    "        if len(predictions[row.image])==5:\n",
    "            continue\n",
    "        predictions[row.image].append(row.target)\n",
    "    elif row.confidence >= 0.52  :\n",
    "        predictions[row.image] = [row.target,'new_individual']\n",
    "    else:\n",
    "        predictions[row.image] = ['new_individual',row.target]\n",
    "\n",
    "for x in tqdm(predictions):\n",
    "    if len(predictions[x])<5:\n",
    "        remaining = [y for y in sample_list if y not in predictions]\n",
    "        predictions[x] = predictions[x]+remaining\n",
    "        predictions[x] = predictions[x][:5]\n",
    "    predictions[x] = ' '.join(predictions[x])\n",
    "    \n",
    "predictions = pd.Series(predictions).reset_index()\n",
    "predictions.columns = ['image','predictions']\n",
    "predictions.to_csv(submit_file,index=False)\n",
    "predictions.head()"
   ]
  },
  {
   "cell_type": "code",
   "execution_count": 19,
   "metadata": {},
   "outputs": [
    {
     "ename": "AssertionError",
     "evalue": "",
     "output_type": "error",
     "traceback": [
      "\u001b[1;31m---------------------------------------------------------------------------\u001b[0m",
      "\u001b[1;31mAssertionError\u001b[0m                            Traceback (most recent call last)",
      "\u001b[1;32m~\\AppData\\Local\\Temp/ipykernel_13244/2000902174.py\u001b[0m in \u001b[0;36m<module>\u001b[1;34m\u001b[0m\n\u001b[1;32m----> 1\u001b[1;33m \u001b[1;32massert\u001b[0m \u001b[1;36m0\u001b[0m \u001b[1;33m==\u001b[0m \u001b[1;36m1\u001b[0m\u001b[1;33m\u001b[0m\u001b[1;33m\u001b[0m\u001b[0m\n\u001b[0m",
      "\u001b[1;31mAssertionError\u001b[0m: "
     ]
    }
   ],
   "source": [
    "assert 0 == 1"
   ]
  },
  {
   "cell_type": "code",
   "execution_count": null,
   "metadata": {},
   "outputs": [
    {
     "ename": "KeyboardInterrupt",
     "evalue": "",
     "output_type": "error",
     "traceback": [
      "\u001b[1;31m---------------------------------------------------------------------------\u001b[0m",
      "\u001b[1;31mKeyboardInterrupt\u001b[0m                         Traceback (most recent call last)",
      "\u001b[1;32m~\\AppData\\Local\\Temp/ipykernel_10392/1569929741.py\u001b[0m in \u001b[0;36m<module>\u001b[1;34m\u001b[0m\n\u001b[0;32m      8\u001b[0m \u001b[0mknn\u001b[0m\u001b[1;33m.\u001b[0m\u001b[0mfit\u001b[0m\u001b[1;33m(\u001b[0m\u001b[0mtrain_v\u001b[0m\u001b[1;33m)\u001b[0m\u001b[1;33m\u001b[0m\u001b[1;33m\u001b[0m\u001b[0m\n\u001b[0;32m      9\u001b[0m \u001b[1;33m\u001b[0m\u001b[0m\n\u001b[1;32m---> 10\u001b[1;33m \u001b[0mdistances\u001b[0m\u001b[1;33m,\u001b[0m \u001b[0midxs\u001b[0m \u001b[1;33m=\u001b[0m \u001b[0mknn\u001b[0m\u001b[1;33m.\u001b[0m\u001b[0mkneighbors\u001b[0m\u001b[1;33m(\u001b[0m\u001b[0mval_v\u001b[0m\u001b[1;33m,\u001b[0m \u001b[0mn_neighbors\u001b[0m\u001b[1;33m,\u001b[0m \u001b[0mreturn_distance\u001b[0m\u001b[1;33m=\u001b[0m\u001b[1;32mTrue\u001b[0m\u001b[1;33m)\u001b[0m\u001b[1;33m\u001b[0m\u001b[1;33m\u001b[0m\u001b[0m\n\u001b[0m",
      "\u001b[1;32m~\\AppData\\Local\\Programs\\Python\\Python37\\lib\\site-packages\\sklearn\\neighbors\\_base.py\u001b[0m in \u001b[0;36mkneighbors\u001b[1;34m(self, X, n_neighbors, return_distance)\u001b[0m\n\u001b[0;32m    706\u001b[0m                 \u001b[0mX\u001b[0m\u001b[1;33m,\u001b[0m \u001b[0mself\u001b[0m\u001b[1;33m.\u001b[0m\u001b[0m_fit_X\u001b[0m\u001b[1;33m,\u001b[0m \u001b[0mreduce_func\u001b[0m\u001b[1;33m=\u001b[0m\u001b[0mreduce_func\u001b[0m\u001b[1;33m,\u001b[0m\u001b[1;33m\u001b[0m\u001b[1;33m\u001b[0m\u001b[0m\n\u001b[0;32m    707\u001b[0m                 \u001b[0mmetric\u001b[0m\u001b[1;33m=\u001b[0m\u001b[0mself\u001b[0m\u001b[1;33m.\u001b[0m\u001b[0meffective_metric_\u001b[0m\u001b[1;33m,\u001b[0m \u001b[0mn_jobs\u001b[0m\u001b[1;33m=\u001b[0m\u001b[0mn_jobs\u001b[0m\u001b[1;33m,\u001b[0m\u001b[1;33m\u001b[0m\u001b[1;33m\u001b[0m\u001b[0m\n\u001b[1;32m--> 708\u001b[1;33m                 **kwds))\n\u001b[0m\u001b[0;32m    709\u001b[0m \u001b[1;33m\u001b[0m\u001b[0m\n\u001b[0;32m    710\u001b[0m         \u001b[1;32melif\u001b[0m \u001b[0mself\u001b[0m\u001b[1;33m.\u001b[0m\u001b[0m_fit_method\u001b[0m \u001b[1;32min\u001b[0m \u001b[1;33m[\u001b[0m\u001b[1;34m'ball_tree'\u001b[0m\u001b[1;33m,\u001b[0m \u001b[1;34m'kd_tree'\u001b[0m\u001b[1;33m]\u001b[0m\u001b[1;33m:\u001b[0m\u001b[1;33m\u001b[0m\u001b[1;33m\u001b[0m\u001b[0m\n",
      "\u001b[1;32m~\\AppData\\Local\\Programs\\Python\\Python37\\lib\\site-packages\\sklearn\\metrics\\pairwise.py\u001b[0m in \u001b[0;36mpairwise_distances_chunked\u001b[1;34m(X, Y, reduce_func, metric, n_jobs, working_memory, **kwds)\u001b[0m\n\u001b[0;32m   1622\u001b[0m             \u001b[0mX_chunk\u001b[0m \u001b[1;33m=\u001b[0m \u001b[0mX\u001b[0m\u001b[1;33m[\u001b[0m\u001b[0msl\u001b[0m\u001b[1;33m]\u001b[0m\u001b[1;33m\u001b[0m\u001b[1;33m\u001b[0m\u001b[0m\n\u001b[0;32m   1623\u001b[0m         D_chunk = pairwise_distances(X_chunk, Y, metric=metric,\n\u001b[1;32m-> 1624\u001b[1;33m                                      n_jobs=n_jobs, **kwds)\n\u001b[0m\u001b[0;32m   1625\u001b[0m         if ((X is Y or Y is None)\n\u001b[0;32m   1626\u001b[0m                 \u001b[1;32mand\u001b[0m \u001b[0mPAIRWISE_DISTANCE_FUNCTIONS\u001b[0m\u001b[1;33m.\u001b[0m\u001b[0mget\u001b[0m\u001b[1;33m(\u001b[0m\u001b[0mmetric\u001b[0m\u001b[1;33m,\u001b[0m \u001b[1;32mNone\u001b[0m\u001b[1;33m)\u001b[0m\u001b[1;33m\u001b[0m\u001b[1;33m\u001b[0m\u001b[0m\n",
      "\u001b[1;32m~\\AppData\\Local\\Programs\\Python\\Python37\\lib\\site-packages\\sklearn\\utils\\validation.py\u001b[0m in \u001b[0;36minner_f\u001b[1;34m(*args, **kwargs)\u001b[0m\n\u001b[0;32m     61\u001b[0m             \u001b[0mextra_args\u001b[0m \u001b[1;33m=\u001b[0m \u001b[0mlen\u001b[0m\u001b[1;33m(\u001b[0m\u001b[0margs\u001b[0m\u001b[1;33m)\u001b[0m \u001b[1;33m-\u001b[0m \u001b[0mlen\u001b[0m\u001b[1;33m(\u001b[0m\u001b[0mall_args\u001b[0m\u001b[1;33m)\u001b[0m\u001b[1;33m\u001b[0m\u001b[1;33m\u001b[0m\u001b[0m\n\u001b[0;32m     62\u001b[0m             \u001b[1;32mif\u001b[0m \u001b[0mextra_args\u001b[0m \u001b[1;33m<=\u001b[0m \u001b[1;36m0\u001b[0m\u001b[1;33m:\u001b[0m\u001b[1;33m\u001b[0m\u001b[1;33m\u001b[0m\u001b[0m\n\u001b[1;32m---> 63\u001b[1;33m                 \u001b[1;32mreturn\u001b[0m \u001b[0mf\u001b[0m\u001b[1;33m(\u001b[0m\u001b[1;33m*\u001b[0m\u001b[0margs\u001b[0m\u001b[1;33m,\u001b[0m \u001b[1;33m**\u001b[0m\u001b[0mkwargs\u001b[0m\u001b[1;33m)\u001b[0m\u001b[1;33m\u001b[0m\u001b[1;33m\u001b[0m\u001b[0m\n\u001b[0m\u001b[0;32m     64\u001b[0m \u001b[1;33m\u001b[0m\u001b[0m\n\u001b[0;32m     65\u001b[0m             \u001b[1;31m# extra_args > 0\u001b[0m\u001b[1;33m\u001b[0m\u001b[1;33m\u001b[0m\u001b[1;33m\u001b[0m\u001b[0m\n",
      "\u001b[1;32m~\\AppData\\Local\\Programs\\Python\\Python37\\lib\\site-packages\\sklearn\\metrics\\pairwise.py\u001b[0m in \u001b[0;36mpairwise_distances\u001b[1;34m(X, Y, metric, n_jobs, force_all_finite, **kwds)\u001b[0m\n\u001b[0;32m   1788\u001b[0m         \u001b[0mfunc\u001b[0m \u001b[1;33m=\u001b[0m \u001b[0mpartial\u001b[0m\u001b[1;33m(\u001b[0m\u001b[0mdistance\u001b[0m\u001b[1;33m.\u001b[0m\u001b[0mcdist\u001b[0m\u001b[1;33m,\u001b[0m \u001b[0mmetric\u001b[0m\u001b[1;33m=\u001b[0m\u001b[0mmetric\u001b[0m\u001b[1;33m,\u001b[0m \u001b[1;33m**\u001b[0m\u001b[0mkwds\u001b[0m\u001b[1;33m)\u001b[0m\u001b[1;33m\u001b[0m\u001b[1;33m\u001b[0m\u001b[0m\n\u001b[0;32m   1789\u001b[0m \u001b[1;33m\u001b[0m\u001b[0m\n\u001b[1;32m-> 1790\u001b[1;33m     \u001b[1;32mreturn\u001b[0m \u001b[0m_parallel_pairwise\u001b[0m\u001b[1;33m(\u001b[0m\u001b[0mX\u001b[0m\u001b[1;33m,\u001b[0m \u001b[0mY\u001b[0m\u001b[1;33m,\u001b[0m \u001b[0mfunc\u001b[0m\u001b[1;33m,\u001b[0m \u001b[0mn_jobs\u001b[0m\u001b[1;33m,\u001b[0m \u001b[1;33m**\u001b[0m\u001b[0mkwds\u001b[0m\u001b[1;33m)\u001b[0m\u001b[1;33m\u001b[0m\u001b[1;33m\u001b[0m\u001b[0m\n\u001b[0m\u001b[0;32m   1791\u001b[0m \u001b[1;33m\u001b[0m\u001b[0m\n\u001b[0;32m   1792\u001b[0m \u001b[1;33m\u001b[0m\u001b[0m\n",
      "\u001b[1;32m~\\AppData\\Local\\Programs\\Python\\Python37\\lib\\site-packages\\sklearn\\metrics\\pairwise.py\u001b[0m in \u001b[0;36m_parallel_pairwise\u001b[1;34m(X, Y, func, n_jobs, **kwds)\u001b[0m\n\u001b[0;32m   1357\u001b[0m \u001b[1;33m\u001b[0m\u001b[0m\n\u001b[0;32m   1358\u001b[0m     \u001b[1;32mif\u001b[0m \u001b[0meffective_n_jobs\u001b[0m\u001b[1;33m(\u001b[0m\u001b[0mn_jobs\u001b[0m\u001b[1;33m)\u001b[0m \u001b[1;33m==\u001b[0m \u001b[1;36m1\u001b[0m\u001b[1;33m:\u001b[0m\u001b[1;33m\u001b[0m\u001b[1;33m\u001b[0m\u001b[0m\n\u001b[1;32m-> 1359\u001b[1;33m         \u001b[1;32mreturn\u001b[0m \u001b[0mfunc\u001b[0m\u001b[1;33m(\u001b[0m\u001b[0mX\u001b[0m\u001b[1;33m,\u001b[0m \u001b[0mY\u001b[0m\u001b[1;33m,\u001b[0m \u001b[1;33m**\u001b[0m\u001b[0mkwds\u001b[0m\u001b[1;33m)\u001b[0m\u001b[1;33m\u001b[0m\u001b[1;33m\u001b[0m\u001b[0m\n\u001b[0m\u001b[0;32m   1360\u001b[0m \u001b[1;33m\u001b[0m\u001b[0m\n\u001b[0;32m   1361\u001b[0m     \u001b[1;31m# enforce a threading backend to prevent data communication overhead\u001b[0m\u001b[1;33m\u001b[0m\u001b[1;33m\u001b[0m\u001b[1;33m\u001b[0m\u001b[0m\n",
      "\u001b[1;32m~\\AppData\\Local\\Programs\\Python\\Python37\\lib\\site-packages\\sklearn\\metrics\\pairwise.py\u001b[0m in \u001b[0;36mcosine_distances\u001b[1;34m(X, Y)\u001b[0m\n\u001b[0;32m    834\u001b[0m     \u001b[0mS\u001b[0m \u001b[1;33m*=\u001b[0m \u001b[1;33m-\u001b[0m\u001b[1;36m1\u001b[0m\u001b[1;33m\u001b[0m\u001b[1;33m\u001b[0m\u001b[0m\n\u001b[0;32m    835\u001b[0m     \u001b[0mS\u001b[0m \u001b[1;33m+=\u001b[0m \u001b[1;36m1\u001b[0m\u001b[1;33m\u001b[0m\u001b[1;33m\u001b[0m\u001b[0m\n\u001b[1;32m--> 836\u001b[1;33m     \u001b[0mnp\u001b[0m\u001b[1;33m.\u001b[0m\u001b[0mclip\u001b[0m\u001b[1;33m(\u001b[0m\u001b[0mS\u001b[0m\u001b[1;33m,\u001b[0m \u001b[1;36m0\u001b[0m\u001b[1;33m,\u001b[0m \u001b[1;36m2\u001b[0m\u001b[1;33m,\u001b[0m \u001b[0mout\u001b[0m\u001b[1;33m=\u001b[0m\u001b[0mS\u001b[0m\u001b[1;33m)\u001b[0m\u001b[1;33m\u001b[0m\u001b[1;33m\u001b[0m\u001b[0m\n\u001b[0m\u001b[0;32m    837\u001b[0m     \u001b[1;32mif\u001b[0m \u001b[0mX\u001b[0m \u001b[1;32mis\u001b[0m \u001b[0mY\u001b[0m \u001b[1;32mor\u001b[0m \u001b[0mY\u001b[0m \u001b[1;32mis\u001b[0m \u001b[1;32mNone\u001b[0m\u001b[1;33m:\u001b[0m\u001b[1;33m\u001b[0m\u001b[1;33m\u001b[0m\u001b[0m\n\u001b[0;32m    838\u001b[0m         \u001b[1;31m# Ensure that distances between vectors and themselves are set to 0.0.\u001b[0m\u001b[1;33m\u001b[0m\u001b[1;33m\u001b[0m\u001b[1;33m\u001b[0m\u001b[0m\n",
      "\u001b[1;32m<__array_function__ internals>\u001b[0m in \u001b[0;36mclip\u001b[1;34m(*args, **kwargs)\u001b[0m\n",
      "\u001b[1;32m~\\AppData\\Local\\Programs\\Python\\Python37\\lib\\site-packages\\numpy\\core\\fromnumeric.py\u001b[0m in \u001b[0;36mclip\u001b[1;34m(a, a_min, a_max, out, **kwargs)\u001b[0m\n\u001b[0;32m   2101\u001b[0m \u001b[1;33m\u001b[0m\u001b[0m\n\u001b[0;32m   2102\u001b[0m     \"\"\"\n\u001b[1;32m-> 2103\u001b[1;33m     \u001b[1;32mreturn\u001b[0m \u001b[0m_wrapfunc\u001b[0m\u001b[1;33m(\u001b[0m\u001b[0ma\u001b[0m\u001b[1;33m,\u001b[0m \u001b[1;34m'clip'\u001b[0m\u001b[1;33m,\u001b[0m \u001b[0ma_min\u001b[0m\u001b[1;33m,\u001b[0m \u001b[0ma_max\u001b[0m\u001b[1;33m,\u001b[0m \u001b[0mout\u001b[0m\u001b[1;33m=\u001b[0m\u001b[0mout\u001b[0m\u001b[1;33m,\u001b[0m \u001b[1;33m**\u001b[0m\u001b[0mkwargs\u001b[0m\u001b[1;33m)\u001b[0m\u001b[1;33m\u001b[0m\u001b[1;33m\u001b[0m\u001b[0m\n\u001b[0m\u001b[0;32m   2104\u001b[0m \u001b[1;33m\u001b[0m\u001b[0m\n\u001b[0;32m   2105\u001b[0m \u001b[1;33m\u001b[0m\u001b[0m\n",
      "\u001b[1;32m~\\AppData\\Local\\Programs\\Python\\Python37\\lib\\site-packages\\numpy\\core\\fromnumeric.py\u001b[0m in \u001b[0;36m_wrapfunc\u001b[1;34m(obj, method, *args, **kwds)\u001b[0m\n\u001b[0;32m     56\u001b[0m \u001b[1;33m\u001b[0m\u001b[0m\n\u001b[0;32m     57\u001b[0m     \u001b[1;32mtry\u001b[0m\u001b[1;33m:\u001b[0m\u001b[1;33m\u001b[0m\u001b[1;33m\u001b[0m\u001b[0m\n\u001b[1;32m---> 58\u001b[1;33m         \u001b[1;32mreturn\u001b[0m \u001b[0mbound\u001b[0m\u001b[1;33m(\u001b[0m\u001b[1;33m*\u001b[0m\u001b[0margs\u001b[0m\u001b[1;33m,\u001b[0m \u001b[1;33m**\u001b[0m\u001b[0mkwds\u001b[0m\u001b[1;33m)\u001b[0m\u001b[1;33m\u001b[0m\u001b[1;33m\u001b[0m\u001b[0m\n\u001b[0m\u001b[0;32m     59\u001b[0m     \u001b[1;32mexcept\u001b[0m \u001b[0mTypeError\u001b[0m\u001b[1;33m:\u001b[0m\u001b[1;33m\u001b[0m\u001b[1;33m\u001b[0m\u001b[0m\n\u001b[0;32m     60\u001b[0m         \u001b[1;31m# A TypeError occurs if the object does have such a method in its\u001b[0m\u001b[1;33m\u001b[0m\u001b[1;33m\u001b[0m\u001b[1;33m\u001b[0m\u001b[0m\n",
      "\u001b[1;32m~\\AppData\\Local\\Programs\\Python\\Python37\\lib\\site-packages\\numpy\\core\\_methods.py\u001b[0m in \u001b[0;36m_clip\u001b[1;34m(a, min, max, out, casting, **kwargs)\u001b[0m\n\u001b[0;32m    157\u001b[0m     \u001b[1;32melse\u001b[0m\u001b[1;33m:\u001b[0m\u001b[1;33m\u001b[0m\u001b[1;33m\u001b[0m\u001b[0m\n\u001b[0;32m    158\u001b[0m         return _clip_dep_invoke_with_casting(\n\u001b[1;32m--> 159\u001b[1;33m             um.clip, a, min, max, out=out, casting=casting, **kwargs)\n\u001b[0m\u001b[0;32m    160\u001b[0m \u001b[1;33m\u001b[0m\u001b[0m\n\u001b[0;32m    161\u001b[0m \u001b[1;32mdef\u001b[0m \u001b[0m_mean\u001b[0m\u001b[1;33m(\u001b[0m\u001b[0ma\u001b[0m\u001b[1;33m,\u001b[0m \u001b[0maxis\u001b[0m\u001b[1;33m=\u001b[0m\u001b[1;32mNone\u001b[0m\u001b[1;33m,\u001b[0m \u001b[0mdtype\u001b[0m\u001b[1;33m=\u001b[0m\u001b[1;32mNone\u001b[0m\u001b[1;33m,\u001b[0m \u001b[0mout\u001b[0m\u001b[1;33m=\u001b[0m\u001b[1;32mNone\u001b[0m\u001b[1;33m,\u001b[0m \u001b[0mkeepdims\u001b[0m\u001b[1;33m=\u001b[0m\u001b[1;32mFalse\u001b[0m\u001b[1;33m,\u001b[0m \u001b[1;33m*\u001b[0m\u001b[1;33m,\u001b[0m \u001b[0mwhere\u001b[0m\u001b[1;33m=\u001b[0m\u001b[1;32mTrue\u001b[0m\u001b[1;33m)\u001b[0m\u001b[1;33m:\u001b[0m\u001b[1;33m\u001b[0m\u001b[1;33m\u001b[0m\u001b[0m\n",
      "\u001b[1;32m~\\AppData\\Local\\Programs\\Python\\Python37\\lib\\site-packages\\numpy\\core\\_methods.py\u001b[0m in \u001b[0;36m_clip_dep_invoke_with_casting\u001b[1;34m(ufunc, out, casting, *args, **kwargs)\u001b[0m\n\u001b[0;32m    110\u001b[0m     \u001b[1;31m# try to deal with broken casting rules\u001b[0m\u001b[1;33m\u001b[0m\u001b[1;33m\u001b[0m\u001b[1;33m\u001b[0m\u001b[0m\n\u001b[0;32m    111\u001b[0m     \u001b[1;32mtry\u001b[0m\u001b[1;33m:\u001b[0m\u001b[1;33m\u001b[0m\u001b[1;33m\u001b[0m\u001b[0m\n\u001b[1;32m--> 112\u001b[1;33m         \u001b[1;32mreturn\u001b[0m \u001b[0mufunc\u001b[0m\u001b[1;33m(\u001b[0m\u001b[1;33m*\u001b[0m\u001b[0margs\u001b[0m\u001b[1;33m,\u001b[0m \u001b[0mout\u001b[0m\u001b[1;33m=\u001b[0m\u001b[0mout\u001b[0m\u001b[1;33m,\u001b[0m \u001b[1;33m**\u001b[0m\u001b[0mkwargs\u001b[0m\u001b[1;33m)\u001b[0m\u001b[1;33m\u001b[0m\u001b[1;33m\u001b[0m\u001b[0m\n\u001b[0m\u001b[0;32m    113\u001b[0m     \u001b[1;32mexcept\u001b[0m \u001b[0m_exceptions\u001b[0m\u001b[1;33m.\u001b[0m\u001b[0m_UFuncOutputCastingError\u001b[0m \u001b[1;32mas\u001b[0m \u001b[0me\u001b[0m\u001b[1;33m:\u001b[0m\u001b[1;33m\u001b[0m\u001b[1;33m\u001b[0m\u001b[0m\n\u001b[0;32m    114\u001b[0m         \u001b[1;31m# Numpy 1.17.0, 2019-02-24\u001b[0m\u001b[1;33m\u001b[0m\u001b[1;33m\u001b[0m\u001b[1;33m\u001b[0m\u001b[0m\n",
      "\u001b[1;31mKeyboardInterrupt\u001b[0m: "
     ]
    }
   ],
   "source": [
    "## TEST CV\n",
    "\n",
    "n_neighbors = 100\n",
    "knn = NearestNeighbors(n_neighbors=n_neighbors,metric='cosine')\n",
    "\n",
    "train_k, train_v = dict2list(train_embs)\n",
    "val_k, val_v = dict2list(val_embs)\n",
    "knn.fit(train_v)\n",
    "\n",
    "distances, idxs = knn.kneighbors(val_v, n_neighbors, return_distance=True)"
   ]
  },
  {
   "cell_type": "code",
   "execution_count": null,
   "metadata": {},
   "outputs": [
    {
     "name": "stderr",
     "output_type": "stream",
     "text": [
      "100%|██████████| 10207/10207 [00:02<00:00, 4433.98it/s]\n",
      "100%|██████████| 371251/371251 [00:49<00:00, 7528.29it/s]\n",
      "100%|██████████| 10207/10207 [00:00<00:00, 476013.89it/s]\n"
     ]
    },
    {
     "data": {
      "text/html": [
       "<div>\n",
       "<style scoped>\n",
       "    .dataframe tbody tr th:only-of-type {\n",
       "        vertical-align: middle;\n",
       "    }\n",
       "\n",
       "    .dataframe tbody tr th {\n",
       "        vertical-align: top;\n",
       "    }\n",
       "\n",
       "    .dataframe thead th {\n",
       "        text-align: right;\n",
       "    }\n",
       "</style>\n",
       "<table border=\"1\" class=\"dataframe\">\n",
       "  <thead>\n",
       "    <tr style=\"text-align: right;\">\n",
       "      <th></th>\n",
       "      <th>image</th>\n",
       "      <th>predictions</th>\n",
       "    </tr>\n",
       "  </thead>\n",
       "  <tbody>\n",
       "    <tr>\n",
       "      <th>0</th>\n",
       "      <td>031a0350f54c99.jpg</td>\n",
       "      <td>8cfe17a71664 new_individual b01806049288 62a4a...</td>\n",
       "    </tr>\n",
       "    <tr>\n",
       "      <th>1</th>\n",
       "      <td>0550efeb533bbd.jpg</td>\n",
       "      <td>1fea7e2e0796 new_individual 5d6295ab016a d937a...</td>\n",
       "    </tr>\n",
       "    <tr>\n",
       "      <th>2</th>\n",
       "      <td>98e4e1d7229a3a.jpg</td>\n",
       "      <td>37c7aba965a5 new_individual 938b7e931166 5bf17...</td>\n",
       "    </tr>\n",
       "    <tr>\n",
       "      <th>3</th>\n",
       "      <td>8a6ac9ead8a6e1.jpg</td>\n",
       "      <td>9e89f8e28807 new_individual 938b7e931166 5bf17...</td>\n",
       "    </tr>\n",
       "    <tr>\n",
       "      <th>4</th>\n",
       "      <td>005e53b1b6aada.jpg</td>\n",
       "      <td>37c7aba965a5 new_individual 938b7e931166 5bf17...</td>\n",
       "    </tr>\n",
       "  </tbody>\n",
       "</table>\n",
       "</div>"
      ],
      "text/plain": [
       "                image                                        predictions\n",
       "0  031a0350f54c99.jpg  8cfe17a71664 new_individual b01806049288 62a4a...\n",
       "1  0550efeb533bbd.jpg  1fea7e2e0796 new_individual 5d6295ab016a d937a...\n",
       "2  98e4e1d7229a3a.jpg  37c7aba965a5 new_individual 938b7e931166 5bf17...\n",
       "3  8a6ac9ead8a6e1.jpg  9e89f8e28807 new_individual 938b7e931166 5bf17...\n",
       "4  005e53b1b6aada.jpg  37c7aba965a5 new_individual 938b7e931166 5bf17..."
      ]
     },
     "execution_count": 140,
     "metadata": {},
     "output_type": "execute_result"
    }
   ],
   "source": [
    "\n",
    "from tqdm import tqdm\n",
    "\n",
    "val_df = []\n",
    "train_k = np.asarray(train_k)\n",
    "img2id = dict(zip(train_df.image, train_df.individual_id))\n",
    "\n",
    "for i in tqdm(range(len(val_k))):\n",
    "    dist, idx = distances[i], idxs[i]\n",
    "    for d, id in zip(dist, idx):\n",
    "        img_id = train_k[id]\n",
    "        tar = img2id[img_id]\n",
    "        val_df.append([val_k[i], tar, d]) \n",
    "    \n",
    "val_df = pd.DataFrame(val_df, columns=['image', 'target', 'distances'])\n",
    "val_df['confidence'] = 1-val_df['distances']\n",
    "val_df = val_df.groupby(['image','target']).confidence.mean().reset_index()\n",
    "val_df = val_df.sort_values('confidence',ascending=False).reset_index(drop=True)\n",
    "val_df.to_csv('val_neighbors.csv')\n",
    "val_df.image.value_counts().value_counts()\n",
    "\n",
    "val_pred = {}\n",
    "sample_list = ['938b7e931166', '5bf17305f073', '7593d2aee842', '7362d7a01d00','956562ff2888']\n",
    "\n",
    "for i,row in tqdm(val_df.iterrows(), total=len(val_df)):\n",
    "    if row.image in val_pred:\n",
    "        if len(val_pred[row.image])==5:\n",
    "            continue\n",
    "        val_pred[row.image].append(row.target)\n",
    "    elif row.confidence >= 0.5:\n",
    "        val_pred[row.image] = [row.target,'new_individual']\n",
    "    else:\n",
    "        val_pred[row.image] = ['new_individual',row.target]\n",
    "\n",
    "for x in tqdm(val_pred):\n",
    "    if len(val_pred[x])<5:\n",
    "        remaining = [y for y in sample_list if y not in val_pred]\n",
    "        val_pred[x] = val_pred[x]+remaining\n",
    "        val_pred[x] = val_pred[x][:5]\n",
    "    val_pred[x] = ' '.join(val_pred[x])\n",
    "    \n",
    "val_pred = pd.Series(val_pred).reset_index()\n",
    "val_pred.columns = ['image','predictions']\n",
    "val_pred.head()"
   ]
  },
  {
   "cell_type": "code",
   "execution_count": null,
   "metadata": {},
   "outputs": [
    {
     "data": {
      "text/plain": [
       "0.7377535024982855"
      ]
     },
     "execution_count": 141,
     "metadata": {},
     "output_type": "execute_result"
    }
   ],
   "source": [
    "train_ids = np.unique([train_map[x] for x in train_k])\n",
    "allowed = []\n",
    "for i, k in enumerate(val_k):\n",
    "    if train_map[k] in train_ids:\n",
    "        allowed.append(train_map[k])\n",
    "\n",
    "val_targets_df = pd.DataFrame(val_k)\n",
    "val_targets_df.columns = ['image']\n",
    "val_targets_df['target'] = val_targets_df['image'].map(train_map)\n",
    "val_targets_df.loc[~val_targets_df.target.isin(allowed),'target'] = 'new_individual'\n",
    "val_targets_df.head(10)\n",
    "\n",
    "all_preds = dict(zip(val_pred['image'], val_pred['predictions']))\n",
    "th = 0.6\n",
    "for i,row in val_targets_df.iterrows():\n",
    "        target = row.target\n",
    "        preds = all_preds[row.image].split(\" \")\n",
    "        val_targets_df.loc[i,th] = map_per_image(target,preds)\n",
    "cv = val_targets_df[th].mean()\n",
    "cv"
   ]
  },
  {
   "cell_type": "code",
   "execution_count": null,
   "metadata": {},
   "outputs": [],
   "source": []
  }
 ],
 "metadata": {
  "interpreter": {
   "hash": "0d4bc70c65d06e1543861fe65a0e2a7420176491a9e60a2c8babf4d7456b2d28"
  },
  "kernelspec": {
   "display_name": "Python 3.7.9 64-bit",
   "language": "python",
   "name": "python3"
  },
  "language_info": {
   "codemirror_mode": {
    "name": "ipython",
    "version": 3
   },
   "file_extension": ".py",
   "mimetype": "text/x-python",
   "name": "python",
   "nbconvert_exporter": "python",
   "pygments_lexer": "ipython3",
   "version": "3.7.9"
  },
  "orig_nbformat": 4
 },
 "nbformat": 4,
 "nbformat_minor": 2
}
