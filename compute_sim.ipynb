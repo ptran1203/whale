{
 "cells": [
  {
   "cell_type": "code",
   "execution_count": 1,
   "metadata": {},
   "outputs": [],
   "source": [
    "from utils import pickle_load\n",
    "import numpy as np\n",
    "import pandas as pd\n",
    "\n",
    "train_embs = pickle_load(r\"D:/train_embs.pkl\")\n",
    "test_embs = pickle_load(r\"D:/test_embs.pkl\")\n",
    "train_df = pd.read_csv('train.csv')"
   ]
  },
  {
   "cell_type": "code",
   "execution_count": 4,
   "metadata": {},
   "outputs": [
    {
     "name": "stderr",
     "output_type": "stream",
     "text": [
      "100%|██████████| 27956/27956 [00:20<00:00, 1394.47it/s]\n"
     ]
    }
   ],
   "source": [
    "from collections import defaultdict\n",
    "from tqdm import tqdm\n",
    "\n",
    "def dict2list(embs):\n",
    "    keys = list(embs.keys())\n",
    "    values = [embs[k] for k in keys]\n",
    "    return keys, np.stack(values)\n",
    "\n",
    "def compute_sim(train_embs, test_embs):\n",
    "    # Compute center of each individual id\n",
    "    label2emb = defaultdict(list)\n",
    "    for label, d in train_df.groupby('individual_id'):\n",
    "        for img_id in d.image.values:\n",
    "            if img_id in train_embs:\n",
    "                label2emb[label].append(train_embs[img_id])\n",
    "    for k, v in label2emb.items():\n",
    "        avg = np.mean(np.stack(v),0)\n",
    "        label2emb[k] = avg / np.linalg.norm(avg)\n",
    "\n",
    "    train_k, train_v = dict2list(label2emb)\n",
    "    test_k, test_v = dict2list(test_embs)\n",
    "\n",
    "    cos = np.matmul(test_v, train_v.T)\n",
    "\n",
    "    records = []\n",
    "\n",
    "    for i, scores in enumerate(tqdm(cos)):\n",
    "        sort_idx = np.argsort(scores)[::-1]\n",
    "        records.append([test_k[i], \" \".join([train_k[j] for j in sort_idx[:5]])])\n",
    "        best = scores[sort_idx[0]]\n",
    "        # if best >= 0.5:\n",
    "        #     print(best)\n",
    "\n",
    "    sim_df = pd.DataFrame(records, columns=['image', 'predictions'])\n",
    "    sim_df[[\"image\", \"predictions\"]].to_csv(\"submission.csv\", index=False)\n",
    "\n",
    "compute_sim(train_embs, test_embs)"
   ]
  },
  {
   "cell_type": "code",
   "execution_count": 3,
   "metadata": {},
   "outputs": [],
   "source": [
    "sample = train_df.sample(1)"
   ]
  }
 ],
 "metadata": {
  "interpreter": {
   "hash": "0d4bc70c65d06e1543861fe65a0e2a7420176491a9e60a2c8babf4d7456b2d28"
  },
  "kernelspec": {
   "display_name": "Python 3.7.9 64-bit",
   "language": "python",
   "name": "python3"
  },
  "language_info": {
   "codemirror_mode": {
    "name": "ipython",
    "version": 3
   },
   "file_extension": ".py",
   "mimetype": "text/x-python",
   "name": "python",
   "nbconvert_exporter": "python",
   "pygments_lexer": "ipython3",
   "version": "3.7.9"
  },
  "orig_nbformat": 4
 },
 "nbformat": 4,
 "nbformat_minor": 2
}
